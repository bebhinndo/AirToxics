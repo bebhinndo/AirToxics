{
 "cells": [
  {
   "cell_type": "markdown",
   "metadata": {},
   "source": [
    "# Jupyter Notebook for Air Toxics Workbook"
   ]
  },
  {
   "cell_type": "markdown",
   "metadata": {
    "slideshow": {
     "slide_type": "slide"
    }
   },
   "source": [
    "Like R Markdown, but a different system. \n",
    "\n",
    "Cells like these contain text that explain proceedures and statistical code in that will follow. \n",
    "\n",
    "Let's get started by double checking our working directory: "
   ]
  },
  {
   "cell_type": "code",
   "execution_count": 1,
   "metadata": {},
   "outputs": [
    {
     "data": {
      "text/html": [
       "'C:/Users/BDo.ERG'"
      ],
      "text/latex": [
       "'C:/Users/BDo.ERG'"
      ],
      "text/markdown": [
       "'C:/Users/BDo.ERG'"
      ],
      "text/plain": [
       "[1] \"C:/Users/BDo.ERG\""
      ]
     },
     "metadata": {},
     "output_type": "display_data"
    }
   ],
   "source": [
    " getwd()"
   ]
  },
  {
   "cell_type": "markdown",
   "metadata": {},
   "source": [
    "Let's change that to something else, and check to make sure it worked: "
   ]
  },
  {
   "cell_type": "code",
   "execution_count": 2,
   "metadata": {},
   "outputs": [
    {
     "data": {
      "text/html": [
       "'C:/Users/BDo.ERG/Documents/_Projects/R projects/AMA HAP/AMA_HAP_BY_YEAR/03_R datasets'"
      ],
      "text/latex": [
       "'C:/Users/BDo.ERG/Documents/\\_Projects/R projects/AMA HAP/AMA\\_HAP\\_BY\\_YEAR/03\\_R datasets'"
      ],
      "text/markdown": [
       "'C:/Users/BDo.ERG/Documents/_Projects/R projects/AMA HAP/AMA_HAP_BY_YEAR/03_R datasets'"
      ],
      "text/plain": [
       "[1] \"C:/Users/BDo.ERG/Documents/_Projects/R projects/AMA HAP/AMA_HAP_BY_YEAR/03_R datasets\""
      ]
     },
     "metadata": {},
     "output_type": "display_data"
    }
   ],
   "source": [
    "setwd(\"C:/Users/BDo.ERG/Documents/_Projects/R projects/AMA HAP/AMA_HAP_BY_YEAR/03_R datasets/\")\n",
    " getwd()"
   ]
  },
  {
   "cell_type": "markdown",
   "metadata": {},
   "source": [
    "Oh, we have to load a nonstandard library. Here's how to do it, but you only need to do it once. "
   ]
  },
  {
   "cell_type": "code",
   "execution_count": 4,
   "metadata": {},
   "outputs": [
    {
     "name": "stdout",
     "output_type": "stream",
     "text": [
      "package 'openair' successfully unpacked and MD5 sums checked\n",
      "\n",
      "The downloaded binary packages are in\n",
      "\tC:\\Users\\BDo.ERG\\AppData\\Local\\Temp\\RtmpEDpipy\\downloaded_packages\n"
     ]
    }
   ],
   "source": [
    "install.packages('openair', 'C:/Users/BDo.ERG/Documents/R/win-library/3.4', repo='http://archive.linux.duke.edu/cran/')\n"
   ]
  },
  {
   "cell_type": "markdown",
   "metadata": {},
   "source": [
    "Now let's load that library so we can use it. "
   ]
  },
  {
   "cell_type": "code",
   "execution_count": 5,
   "metadata": {},
   "outputs": [
    {
     "name": "stderr",
     "output_type": "stream",
     "text": [
      "Warning message:\n",
      "\"package 'openair' was built under R version 3.4.3\""
     ]
    }
   ],
   "source": [
    "library(openair)"
   ]
  },
  {
   "cell_type": "markdown",
   "metadata": {},
   "source": [
    "The warning is just because R released a new version and openair has not been rerun for it yet. Silly me for updating. \n",
    "\n",
    "Let's summarize our data to see what's in it. "
   ]
  },
  {
   "cell_type": "markdown",
   "metadata": {},
   "source": [
    "Great. Now let's load a data set. "
   ]
  },
  {
   "cell_type": "code",
   "execution_count": 6,
   "metadata": {
    "collapsed": true
   },
   "outputs": [],
   "source": [
    "load(\"AMA_2014.Rda\")"
   ]
  },
  {
   "cell_type": "code",
   "execution_count": 7,
   "metadata": {},
   "outputs": [
    {
     "data": {
      "text/plain": [
       "   STATE_ABBR      AMA_SITE_CODE         AQS_POC       \n",
       " TX     : 996687   Length:3009950     1      :1654933  \n",
       " WI     : 296672   Class :character   2      : 470012  \n",
       " CA     : 243682   Mode  :character   6      : 327719  \n",
       " IN     : 214574                      5      : 195278  \n",
       " MO     : 103897                      3      : 121667  \n",
       " ME     :  81690                      10     :  82833  \n",
       " (Other):1072748                      (Other): 157508  \n",
       "                     PROGRAM             YEAR         QUARTER     \n",
       " PAMS                    :1013822   Min.   :2014   Min.   :1.000  \n",
       " SPECIAL PURPOSE         : 656575   1st Qu.:2014   1st Qu.:2.000  \n",
       " SLAMS                   : 536432   Median :2014   Median :3.000  \n",
       " IMPROVE                 : 155336   Mean   :2014   Mean   :2.564  \n",
       " PM2.5 SPECIATION NETWORK: 134651   3rd Qu.:2014   3rd Qu.:3.000  \n",
       " TRIBAL                  : 105751   Max.   :2014   Max.   :4.000  \n",
       " (Other)                 : 407383                                 \n",
       "              SAMPLE_DATE      SAMPLE_START_TIME AQS_PARAMETER_CODE\n",
       " 2014-07-22 00:00:00:  23059   00:00  : 955834   Min.   :12102     \n",
       " 2014-08-27 00:00:00:  22919   06:00  :  86721   1st Qu.:43250     \n",
       " 2014-07-10 00:00:00:  22740   05:00  :  85118   Median :45201     \n",
       " 2014-08-03 00:00:00:  22604   18:00  :  84351   Mean   :50992     \n",
       " 2014-08-15 00:00:00:  22552   15:00  :  83891   3rd Qu.:45220     \n",
       " 2014-06-16 00:00:00:  22160   12:00  :  83721   Max.   :88179     \n",
       " (Other)            :2873916   (Other):1630314                     \n",
       "       AQS_PARAMETER_NAME                 DATA_SOURCE        DURATION_DESC    \n",
       " Mercury (Vapor): 292942   AQS Download 20151115:2828513   1 HOUR   :1734847  \n",
       " Toluene        : 185764   EPA_REGION_5_20160219:  78590   24 HOURS : 900904  \n",
       " Benzene        : 185759   MNPCA_20151224       :  56244   3 HOURS  :  87641  \n",
       " Ethylbenzene   : 185482   AQS Download 20160308:  37113   5 MINUTES: 286558  \n",
       " o-Xylene       : 185238   AQS Download 20160329:   2860                      \n",
       " M/P Xylene     : 184512   FLDEP_20160316       :   2836                      \n",
       " (Other)        :1790253   (Other)              :   3794                      \n",
       " SAMPLE_VALUE_REPORTED AQS_UNIT_CODE                            UNIT_DESC      \n",
       " Min.   :  -1.18       Length:3009950     PARTS PER MILLION - CARBON :1064852  \n",
       " 1st Qu.:   0.00       Class :character   PARTS PER BILLION - CARBON : 579829  \n",
       " Median :   0.00       Mode  :character   UG/CU METER (LC)           : 412603  \n",
       " Mean   :   1.41                          PARTS PER BILLION          : 381831  \n",
       " 3rd Qu.:   0.28                          Nanograms/cubic meter (0 C): 286558  \n",
       " Max.   :9798.00                          Nanograms/cubic meter (LC) : 188013  \n",
       " NA's   :229288                           (Other)                    :  96264  \n",
       " SAMPLING_FREQUENCY_CODE\n",
       " Min.   : 1.000         \n",
       " 1st Qu.: 1.000         \n",
       " Median : 1.000         \n",
       " Mean   : 2.269         \n",
       " 3rd Qu.: 3.000         \n",
       " Max.   :11.000         \n",
       "                        \n",
       "                                               COMMENT       \n",
       "                                                   :2945531  \n",
       " Method Code was populated by EPA                  :  56244  \n",
       " Overlap with 45102, 45109                         :   4416  \n",
       " ND flag removed due to inconsistency              :   1185  \n",
       " added for Phase 10                                :    291  \n",
       " 2/8/16 - ERG updated AQS_QUALIFIER_01 from null to:    209  \n",
       " (Other)                                           :   2074  \n",
       " SAMPLE_VALUE_STD_FINAL_UG_M3 SAMPLE_VALUE_STD_FINAL_TYPE\n",
       " Min.   :   0.00              L:3009251                  \n",
       " 1st Qu.:   0.00              S:    699                  \n",
       " Median :   0.03                                         \n",
       " Mean   :   0.39                                         \n",
       " 3rd Qu.:   0.30                                         \n",
       " Max.   :8406.20                                         \n",
       " NA's   :231372                                          \n",
       " AQS_PARAMETER_CODE_FINAL    AQS_PARAMETER_NAME_FINAL MDL_STD_UG_M3     \n",
       " Min.   :14102            Mercury (Vapor): 292942     Min.   :    0.00  \n",
       " 1st Qu.:43250            Toluene        : 185764     1st Qu.:    0.00  \n",
       " Median :45201            Benzene        : 185759     Median :    0.01  \n",
       " Mean   :51073            Ethylbenzene   : 185482     Mean   :    0.29  \n",
       " 3rd Qu.:45220            o-Xylene       : 185238     3rd Qu.:    0.05  \n",
       " Max.   :88179            M/P Xylene     : 184512     Max.   :55900.00  \n",
       "                          (Other)        :1790253     NA's   :40        \n",
       "           MDL_TYPE       AQS_NULL_DATA_CODE AQS_QUALIFIER_01 \n",
       " ENTITY_ENTERED:1251442          :2778578           :2693655  \n",
       " FEDERAL_MDL   :1701635   AN     :  88646    ND     : 113016  \n",
       " MIN_OF_ALT_MDL:  56873   AM     :  23215    V      :  35258  \n",
       "                          AV     :  23034    MD     :  31497  \n",
       "                          DA     :  11851    SQ     :  28233  \n",
       "                          AQ     :  10839    LB     :  28034  \n",
       "                          (Other):  73787    (Other):  80257  \n",
       " AQS_QUALIFIER_02  AQS_QUALIFIER_03  AQS_QUALIFIER_04  AQS_QUALIFIER_05\n",
       "        :2989533          :3007042          :3009278   :3009950        \n",
       " LB     :   3407   ND     :    699   ND     :    295                   \n",
       " MD     :   2260   LL     :    632   2      :    127                   \n",
       " ND     :   2063   7      :    287   LJ     :    122                   \n",
       " LJ     :   1781   LB     :    254   SQ     :     48                   \n",
       " CB     :   1745   LK     :    199   LL     :     23                   \n",
       " (Other):   9161   (Other):    837   (Other):     57                   \n",
       " AQS_QUALIFIER_06 AQS_QUALIFIER_07  AQS_QUALIFIER_08 AQS_QUALIFIER_09\n",
       "    :3003412             :3009757       : 139299       :3006019      \n",
       " DUP:   6538      INV    :    191   CF-N:2870651     SM:   3931      \n",
       "                  INV_MDL:      2                                    \n",
       "                                                                     \n",
       "                                                                     \n",
       "                                                                     \n",
       "                                                                     \n",
       " AQS_QUALIFIER_10 AQS_METHOD_CODE  \n",
       "    :2996309      128    :1402847  \n",
       " NEG:  13641      084    : 286558  \n",
       "                  811    : 180222  \n",
       "                  142    : 159426  \n",
       "                  800    : 158576  \n",
       "                  150    : 127780  \n",
       "                  (Other): 694541  \n",
       "                                                    SAMPLE_COLLECTION_DESC\n",
       " PRECONCENTRATION TRAP                                         :1402847   \n",
       " Instrumental Tekrans                                          : 286558   \n",
       " Met One SASS Teflon                                           : 162732   \n",
       " Preconcen trap/Thermal Desorber                               : 159426   \n",
       " IMPROVE Module A with Cyclone Inlet-Teflon Filter, 2.2 sq. cm.: 158576   \n",
       " SS 6L- PRESSURIZED CANISTER                                   : 113693   \n",
       " (Other)                                                       : 726118   \n",
       "                          SAMPLE_ANALYSIS_DESC SAMPLE_VALUE_FLAG BELOW_MDL_FLAG\n",
       " PE 8700;AUTO GC;SUBAMBIENT-DUAL FID:1402847     :2303401         :2644724     \n",
       " Atomic Fluorescence                : 286558   ND: 706549        Y: 365226     \n",
       " Auto GC (PE Clarus 500 dual col)   : 159426                                   \n",
       " X-Ray Fluorescence                 : 158576                                   \n",
       " Energy Dispersive XRF              : 118240                                   \n",
       " CRYOGENIC PRECON: GC/MS            : 115472                                   \n",
       " (Other)                            : 768831                                   \n",
       " CENSUS_TRACT_ID    CENSUS_TRACT_POPULATION_2010 MONITOR_LATITUDE\n",
       " Length:3009950     Min.   :    0                Min.   :17.95   \n",
       " Class :character   1st Qu.: 2443                1st Qu.:31.77   \n",
       " Mode  :character   Median : 4537                Median :37.74   \n",
       "                    Mean   : 4627                Mean   :37.02   \n",
       "                    3rd Qu.: 6284                3rd Qu.:42.09   \n",
       "                    Max.   :37452                Max.   :66.93   \n",
       "                                                                 \n",
       " MONITOR_LONGITUDE\n",
       " Min.   :-160.51  \n",
       " 1st Qu.: -96.86  \n",
       " Median : -91.32  \n",
       " Mean   : -92.28  \n",
       " 3rd Qu.: -85.05  \n",
       " Max.   : -64.80  \n",
       "                  "
      ]
     },
     "metadata": {},
     "output_type": "display_data"
    }
   ],
   "source": [
    "summary(AMA_2014)"
   ]
  },
  {
   "cell_type": "markdown",
   "metadata": {},
   "source": [
    "Cool. Let's load a some UK met office data, so we can do other cool stuff. "
   ]
  },
  {
   "cell_type": "code",
   "execution_count": 8,
   "metadata": {
    "collapsed": true
   },
   "outputs": [],
   "source": [
    "load(\"my1data.RData\")"
   ]
  },
  {
   "cell_type": "code",
   "execution_count": 9,
   "metadata": {},
   "outputs": [
    {
     "data": {
      "text/plain": [
       "      date                           o3               no2        \n",
       " Min.   :2016-01-01 00:00:00   Min.   : 0.6316   Min.   :  8.06  \n",
       " 1st Qu.:2016-04-01 11:45:00   1st Qu.: 4.3905   1st Qu.: 56.34  \n",
       " Median :2016-07-01 23:30:00   Median : 9.6855   Median : 83.26  \n",
       " Mean   :2016-07-01 23:30:00   Mean   :15.2837   Mean   : 89.12  \n",
       " 3rd Qu.:2016-10-01 11:15:00   3rd Qu.:21.5037   3rd Qu.:117.62  \n",
       " Max.   :2016-12-31 23:00:00   Max.   :98.6938   Max.   :321.91  \n",
       "                               NA's   :246       NA's   :121     \n",
       "       co              so2              pm10             nox         \n",
       " Min.   :0.0000   Min.   : 0.000   Min.   :  0.20   Min.   :  11.69  \n",
       " 1st Qu.:0.3158   1st Qu.: 4.470   1st Qu.: 15.70   1st Qu.: 123.91  \n",
       " Median :0.4677   Median : 7.077   Median : 23.60   Median : 232.21  \n",
       " Mean   :0.5181   Mean   : 7.667   Mean   : 26.02   Mean   : 297.01  \n",
       " 3rd Qu.:0.6779   3rd Qu.:10.167   3rd Qu.: 32.40   3rd Qu.: 426.37  \n",
       " Max.   :2.5056   Max.   :36.750   Max.   :115.90   Max.   :1596.38  \n",
       " NA's   :1251     NA's   :102      NA's   :404      NA's   :121      \n",
       "       no              pm2.5             nv10             v10       \n",
       " Min.   :  1.534   Min.   :-1.000   Min.   : -3.60   Min.   :-4.80  \n",
       " 1st Qu.: 43.055   1st Qu.: 8.553   1st Qu.: 13.40   1st Qu.: 1.40  \n",
       " Median : 96.461   Median :13.621   Median : 20.70   Median : 2.50  \n",
       " Mean   :135.583   Mean   :15.881   Mean   : 22.76   Mean   : 3.13  \n",
       " 3rd Qu.:200.904   3rd Qu.:19.561   3rd Qu.: 28.70   3rd Qu.: 4.10  \n",
       " Max.   :872.833   Max.   :86.700   Max.   :104.70   Max.   :23.40  \n",
       " NA's   :121       NA's   :349      NA's   :404      NA's   :404    \n",
       "     nv2.5            v2.5              ws               wd        \n",
       " Min.   :-4.70   Min.   :-5.200   Min.   : 0.000   Min.   :  0.00  \n",
       " 1st Qu.: 7.40   1st Qu.: 0.800   1st Qu.: 2.200   1st Qu.: 99.97  \n",
       " Median :12.00   Median : 1.900   Median : 2.900   Median :226.70  \n",
       " Mean   :13.68   Mean   : 2.579   Mean   : 3.203   Mean   :196.55  \n",
       " 3rd Qu.:17.40   3rd Qu.: 3.600   3rd Qu.: 4.000   3rd Qu.:270.10  \n",
       " Max.   :77.80   Max.   :24.500   Max.   :11.400   Max.   :360.00  \n",
       " NA's   :356     NA's   :349      NA's   :288      NA's   :288     \n",
       "     site               code              latitude       longitude      \n",
       " Length:8784        Length:8784        Min.   :51.52   Min.   :-0.1546  \n",
       " Class :character   Class :character   1st Qu.:51.52   1st Qu.:-0.1546  \n",
       " Mode  :character   Mode  :character   Median :51.52   Median :-0.1546  \n",
       "                                       Mean   :51.52   Mean   :-0.1546  \n",
       "                                       3rd Qu.:51.52   3rd Qu.:-0.1546  \n",
       "                                       Max.   :51.52   Max.   :-0.1546  \n",
       "                                                                        \n",
       "  site.type        \n",
       " Length:8784       \n",
       " Class :character  \n",
       " Mode  :character  \n",
       "                   \n",
       "                   \n",
       "                   \n",
       "                   "
      ]
     },
     "metadata": {},
     "output_type": "display_data"
    }
   ],
   "source": [
    "summary(my1data)"
   ]
  },
  {
   "cell_type": "code",
   "execution_count": null,
   "metadata": {
    "collapsed": true
   },
   "outputs": [],
   "source": []
  },
  {
   "cell_type": "code",
   "execution_count": 10,
   "metadata": {},
   "outputs": [
    {
     "name": "stderr",
     "output_type": "stream",
     "text": [
      "Warning message:\n",
      "\"package 'bindrcpp' was built under R version 3.4.3\""
     ]
    },
    {
     "data": {
      "image/png": "[encoded data removed]",
      "text/plain": [
       "plot without title"
      ]
     },
     "metadata": {},
     "output_type": "display_data"
    }
   ],
   "source": [
    "windRose(my1data)"
   ]
  },
  {
   "cell_type": "code",
   "execution_count": null,
   "metadata": {
    "collapsed": true
   },
   "outputs": [],
   "source": []
  }
 ],
 "metadata": {
  "kernelspec": {
   "display_name": "R",
   "language": "R",
   "name": "ir"
  },
  "language_info": {
   "codemirror_mode": "r",
   "file_extension": ".r",
   "mimetype": "text/x-r-source",
   "name": "R",
   "pygments_lexer": "r",
   "version": "3.4.2"
  }
 },
 "nbformat": 4,
 "nbformat_minor": 2
}
